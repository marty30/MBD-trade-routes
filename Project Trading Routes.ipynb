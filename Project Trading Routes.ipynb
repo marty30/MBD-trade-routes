{
 "cells": [
  {
   "cell_type": "code",
   "execution_count": 1,
   "metadata": {
    "collapsed": false
   },
   "outputs": [],
   "source": [
    "# necessary prolog\n",
    "from pyspark import SparkContext\n",
    "from pyspark import SQLContext\n",
    "sc = SparkContext()\n",
    "sql = SQLContext(sc)"
   ]
  },
  {
   "cell_type": "code",
   "execution_count": 2,
   "metadata": {
    "collapsed": false
   },
   "outputs": [],
   "source": [
    "#Epoch -> datetime\n",
    "import time\n",
    "from pyspark.sql.functions import udf\n",
    "epochToDate = udf(lambda epoch: time.strftime('%Y-%m-%d %H:%M:%S', time.localtime(epoch)))\n",
    "\n",
    "# Reading the file\n",
    "full_data = sql.read.json('data/100000_regels_ais_data')\n",
    "full_data = full_data.withColumn(\"date\", epochToDate(full_data['ts']))\n",
    "full_data.registerTempTable(\"full_data\")"
   ]
  },
  {
   "cell_type": "code",
   "execution_count": 3,
   "metadata": {
    "collapsed": true
   },
   "outputs": [],
   "source": [
    "# Get static data:\n",
    "# shipname, eta_hour, dimstarboard, draught, dimstern, mmsi, destination, dimport, ts, imo, eta_day, eta_minute, shiptype, callsign, eta_month, dimbow, type\n",
    "static_data = sql.sql(\"SELECT shipname, eta_hour, dimstarboard, draught, dimstern, mmsi, destination, dimport, ts, date, imo, eta_day, eta_minute, shiptype, callsign, eta_month, dimbow, type FROM full_data WHERE shiptype >= 70 AND shiptype <= 89 ORDER BY mmsi DESC\")\n",
    "static_data.registerTempTable(\"static_data\")"
   ]
  },
  {
   "cell_type": "code",
   "execution_count": 4,
   "metadata": {
    "collapsed": true
   },
   "outputs": [],
   "source": [
    "# Get dynamic data:\n",
    "#sog, ts, timestamp, mmsi, lat, lat2, lon, lon2, rot_direction, rot_angle, nav_status, cog, type, heading\n",
    "dynamic_data = sql.sql(\"SELECT sog, ts, date, timestamp, mmsi, lat, lat2, lon, lon2, rot_direction, rot_angle, nav_status, cog, type, heading FROM full_data WHERE lat IS NOT NULL\")\n",
    "dynamic_data.registerTempTable(\"dynamic_data\")"
   ]
  },
  {
   "cell_type": "code",
   "execution_count": 5,
   "metadata": {
    "collapsed": true
   },
   "outputs": [],
   "source": [
    "# Make static data unique\n",
    "unique_static_data = sql.sql(\"SELECT count(*) as count, shipname, max(dimstarboard) as dimstarboard, max(dimport) as dimport, max(dimstern) as dimstern, max(dimbow) as dimbow, draught, mmsi, destination, imo, eta_minute, eta_hour, eta_day, eta_month, shiptype, callsign, type FROM static_data GROUP BY shipname, eta_hour, draught, mmsi, destination, imo, eta_day, eta_minute, shiptype, callsign, eta_month, type ORDER BY mmsi DESC\")\n",
    "unique_static_data.registerTempTable(\"unique_static_data\")"
   ]
  },
  {
   "cell_type": "code",
   "execution_count": 6,
   "metadata": {
    "collapsed": false
   },
   "outputs": [
    {
     "name": "stdout",
     "output_type": "stream",
     "text": [
      "+---+--------------+---------+\n",
      "|cnt|      shipname|     mmsi|\n",
      "+---+--------------+---------+\n",
      "|  8| NAVE UBHZ5RSE|538003852|\n",
      "|  2|    SHOSEIMARU|431301658|\n",
      "|  2|           123|413000000|\n",
      "|  2| STOLT QUETZAL|319994000|\n",
      "|  2|  PEARY SPIRIT|311027600|\n",
      "|  2|        PATANI|249246000|\n",
      "|  2|  AUDE AUDENDA|244660326|\n",
      "|  2|HAFNIA SEAWAYS|235060989|\n",
      "|  2|     DP GALYNA|229437000|\n",
      "|  2|   NOBLE RIGEL|209787000|\n",
      "+---+--------------+---------+\n",
      "\n"
     ]
    }
   ],
   "source": [
    "# Check if it is truely unique\n",
    "sql.sql(\"SELECT COUNT(*) as cnt, first(shipname) as shipname, first(mmsi) as mmsi FROM unique_static_data GROUP BY mmsi HAVING COUNT(*)>1\").show()\n",
    "\n",
    "# Fails:\n",
    "# - Names that are not exactly the same\n",
    "# - The ETA is different\n",
    "# - Destinations are not exactly the same but look like eachother\n",
    "# - Bullshit destination (233 vs LIANYUNGANG)\n",
    "# - Bullshit callsign (566 vs 309B / 5(A3328 vs 9HA3328)\n",
    "# - Different draughts\n",
    "# "
   ]
  }
 ],
 "metadata": {
  "kernelspec": {
   "display_name": "Python 3",
   "language": "python",
   "name": "python3"
  },
  "language_info": {
   "codemirror_mode": {
    "name": "ipython",
    "version": 3
   },
   "file_extension": ".py",
   "mimetype": "text/x-python",
   "name": "python",
   "nbconvert_exporter": "python",
   "pygments_lexer": "ipython3",
   "version": "3.5.2"
  }
 },
 "nbformat": 4,
 "nbformat_minor": 1
}

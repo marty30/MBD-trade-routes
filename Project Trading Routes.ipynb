{
 "cells": [
  {
   "cell_type": "code",
   "execution_count": 1,
   "metadata": {
    "collapsed": false
   },
   "outputs": [],
   "source": [
    "# necessary prolog\n",
    "from pyspark import SparkContext\n",
    "from pyspark import SQLContext\n",
    "sc = SparkContext()\n",
    "sql = SQLContext(sc)"
   ]
  },
  {
   "cell_type": "code",
   "execution_count": 2,
   "metadata": {
    "collapsed": false
   },
   "outputs": [],
   "source": [
    "#Epoch -> datetime\n",
    "import time\n",
    "from pyspark.sql.functions import udf\n",
    "epochToDate = udf(lambda epoch: time.strftime('%Y-%m-%d %H:%M:%S', time.localtime(epoch)))\n",
    "\n",
    "# Reading the file\n",
    "full_data = sql.read.json('data/100000_regels_ais_data')\n",
    "full_data = full_data.withColumn(\"date\", epochToDate(full_data['ts']))\n",
    "full_data.registerTempTable(\"full_data\")"
   ]
  },
  {
   "cell_type": "code",
   "execution_count": 3,
   "metadata": {
    "collapsed": true
   },
   "outputs": [],
   "source": [
    "# Get static data:\n",
    "# shipname, eta_hour, dimstarboard, draught, dimstern, mmsi, destination, dimport, ts, imo, eta_day, eta_minute, shiptype, callsign, eta_month, dimbow, type\n",
    "static_data = sql.sql(\"SELECT shipname, eta_hour, dimstarboard, draught, dimstern, mmsi, destination, dimport, ts, date, imo, eta_day, eta_minute, shiptype, callsign, eta_month, dimbow, type FROM full_data WHERE shiptype >= 70 AND shiptype <= 89 ORDER BY mmsi DESC\")\n",
    "static_data.registerTempTable(\"static_data\")"
   ]
  },
  {
   "cell_type": "code",
   "execution_count": 4,
   "metadata": {
    "collapsed": true
   },
   "outputs": [],
   "source": [
    "# Get dynamic data:\n",
    "#sog, ts, timestamp, mmsi, lat, lat2, lon, lon2, rot_direction, rot_angle, nav_status, cog, type, heading\n",
    "dynamic_data = sql.sql(\"SELECT sog, ts, date, timestamp, mmsi, lat, lat2, lon, lon2, rot_direction, rot_angle, nav_status, cog, type, heading FROM full_data WHERE lat IS NOT NULL\")\n",
    "dynamic_data.registerTempTable(\"dynamic_data\")"
   ]
  },
  {
   "cell_type": "code",
   "execution_count": 48,
   "metadata": {
    "collapsed": false
   },
   "outputs": [
    {
     "name": "stdout",
     "output_type": "stream",
     "text": [
      "+-----+--------------------+------------+-------+--------+------+-------+---------+--------------------+-------+--------------+------------+-----------+-------------+--------+--------+----+\n",
      "|count|            shipname|dimstarboard|dimport|dimstern|dimbow|draught|     mmsi|         destination|    imo|eta_minute_avg|eta_hour_avg|eta_day_avg|eta_month_avg|shiptype|callsign|type|\n",
      "+-----+--------------------+------------+-------+--------+------+-------+---------+--------------------+-------+--------------+------------+-----------+-------------+--------+--------+----+\n",
      "|   33|          MV SEATTLE|          14|     13|      26|   145|      5|209316000|            JIANGYIN|9220988|           0.0|        22.0|       22.0|          2.0|      70|   P3UX8|   5|\n",
      "|   19|           ANL EUROA|          19|      8|      19|   156|      9|209830000|AUCKLAND NEW ZEALAND|9433066|           0.0|        18.0|       26.0|          2.0|      70|   5BTJ3|   5|\n",
      "|   15|     TANJA DEYMANN 2|           5|      5|       4|    77|      0|211514420|                    |      0|           0.0|        22.0|       22.0|          1.0|      80|  DF2759|   5|\n",
      "|   14|       LU NENG HAI 7|          10|     13|      26|   142|      9|412328990|                  WH|      0|           0.0|        18.0|       20.0|          2.0|      70|    BBDD|   5|\n",
      "|   10|       HACHITOKUMARU|           9|      5|      17|    68|      4|431500189|        > JP WAK OFF|      0|           0.0|         0.0|       22.0|          2.0|      70|  JL6246|   5|\n",
      "|    9|               TOMAR|          22|     10|     162|    38|     10|235068085|         SOUTHAMPTON|9375264|          30.0|         9.0|       22.0|          2.0|      79|   2BPB3|   5|\n",
      "|    9|       BAO DI LONG 8|           9|     10|      25|   110|      5|412439580|             DA LIAN|      0|           0.0|         9.0|       21.0|          2.0|      79|   BKRC6|   5|\n",
      "|    8|          MSC LORENA|          16|     16|      34|   240|      7|371860000|             ANTWERP|9320403|           0.0|         7.0|       12.0|          2.0|      79|   3EBO9|   5|\n",
      "|    7|      XINGJINGLONG02|           7|      7|      10|    81|      6|413779341|QWERUTURYITOUIOYIOYU|      0|           0.0|        11.0|        0.0|          0.0|      70| 0000000|   5|\n",
      "|    7| HANGZHOU BAY BRIDGE|          18|     28|      92|   243|     10|373932000|               GENOA|9566394|          30.0|         4.0|       22.0|          2.0|      70|   3FMK3|   5|\n",
      "|    7|         WANLUDONG88|           4|      4|      10|    33|      2|413854316|                 255|      0|           0.0|         0.0|        0.0|          0.0|      73|     425|   5|\n",
      "|    7|    YU XIN HUO 11168|           6|      5|      12|    57|      3|413804238|                  14|      0|           0.0|         0.0|        0.0|          0.0|      70|      14|   5|\n",
      "|    7|             NERVIER|           0|      0|       0|     0|      0|205310490|           ANTWERPEN|      0|          15.0|        12.0|       18.0|          7.0|      79|  OT3104|   5|\n",
      "|    6|               BELLA|           9|      3|      13|    76|      3|515735000|              JP WAK|8808264|           0.0|         8.0|       19.0|          2.0|      70|   XUFW6|   5|\n",
      "|    6|               ZENIT|          14|     14|      16|   162|      8|538090252|                CEBU|9127813|           0.0|        22.0|       21.0|          2.0|      79|   V7KP8|   5|\n",
      "|    6|          BALTIC SKY|           8|     16|      51|    93|      8|375497000|       ST.PETERSBURG|7632278|           0.0|         4.0|        1.0|          3.0|      70| J8B4372|   5|\n",
      "|    6|     ADVANTAGE SOLAR|          14|     34|      36|   238|      9|538006200|             COVENAS|9408683|           0.0|        11.0|        3.0|          3.0|      80|   V7KZ5|   5|\n",
      "|    6|EMUNA---------------|           6|      3|      12|    68|      0|244660337|                    |      0|           0.0|         0.0|        0.0|          0.0|      79| PH5469-|   5|\n",
      "|    6|      QING JIANG HAO|           8|      8|       8|    86|      3|413819495|            TAI CANG|      0|           0.0|        18.0|       29.0|          1.0|      80| TSTAISB|   5|\n",
      "|    6|          EILTANK 68|           5|      4|      25|    60|      2|211512080|DE   00000     00000|      0|           0.0|         0.0|        0.0|          0.0|      80|  DJ4490|   5|\n",
      "+-----+--------------------+------------+-------+--------+------+-------+---------+--------------------+-------+--------------+------------+-----------+-------------+--------+--------+----+\n",
      "only showing top 20 rows\n",
      "\n"
     ]
    }
   ],
   "source": [
    "# Make static data unique\n",
    "unique_static_data = sql.sql(\"SELECT count(*) as count, shipname, max(dimstarboard) as dimstarboard, max(dimport) as dimport, max(dimstern) as dimstern, max(dimbow) as dimbow, draught, mmsi, destination, imo, avg(eta_minute) as eta_minute_avg, avg(eta_hour) as eta_hour_avg, avg(eta_day) as eta_day_avg, avg(eta_month) as eta_month_avg, shiptype, callsign, type FROM static_data GROUP BY shipname, draught, mmsi, destination, imo, shiptype, callsign, type ORDER BY mmsi DESC\")\n",
    "unique_static_data.registerTempTable(\"unique_static_data\")\n",
    "sql.sql(\"SELECT * FROM unique_static_data ORDER BY count DESC\").show()"
   ]
  },
  {
   "cell_type": "code",
   "execution_count": 52,
   "metadata": {
    "collapsed": false
   },
   "outputs": [
    {
     "name": "stdout",
     "output_type": "stream",
     "text": [
      "+---+--------------+---------+\n",
      "|cnt|      shipname|     mmsi|\n",
      "+---+--------------+---------+\n",
      "|  8| NAVE UBHZ5RSE|538003852|\n",
      "|  2|    SHOSEIMARU|431301658|\n",
      "|  2|           123|413000000|\n",
      "|  2|  AUDE AUDENDA|244660326|\n",
      "|  2|HAFNIA SEAWAYS|235060989|\n",
      "|  2|     DP GALYNA|229437000|\n",
      "+---+--------------+---------+\n",
      "\n"
     ]
    }
   ],
   "source": [
    "# Check if it is truely unique\n",
    "sql.sql(\"SELECT COUNT(*) as cnt, first(shipname) as shipname, first(mmsi) as mmsi FROM unique_static_data GROUP BY mmsi HAVING COUNT(*)>1\").show()\n",
    "\n",
    "# Fails:\n",
    "# - Names that are not exactly the same\n",
    "# - The ETA is different #Fixed i think by taking the average eta for each ship\n",
    "# - Destinations are not exactly the same but look like eachother\n",
    "# - Bullshit destination (233 vs LIANYUNGANG)\n",
    "# - Bullshit callsign (566 vs 309B / 5(A3328 vs 9HA3328)\n",
    "# - Different draughts\n",
    "# "
   ]
  },
  {
   "cell_type": "code",
   "execution_count": 65,
   "metadata": {
    "collapsed": false
   },
   "outputs": [
    {
     "name": "stdout",
     "output_type": "stream",
     "text": [
      "+---+----------+-------------------+---------+---------+---------+----+--------+----+-------------+---------+----------+---+----+-------+-----+--------+------------+-------+--------+------+-------+---------+--------------------+---+--------------+------------+-----------+-------------+--------+--------+----+\n",
      "|sog|        ts|               date|timestamp|     mmsi|      lat|lat2|     lon|lon2|rot_direction|rot_angle|nav_status|cog|type|heading|count|shipname|dimstarboard|dimport|dimstern|dimbow|draught|     mmsi|         destination|imo|eta_minute_avg|eta_hour_avg|eta_day_avg|eta_month_avg|shiptype|callsign|type|\n",
      "+---+----------+-------------------+---------+---------+---------+----+--------+----+-------------+---------+----------+---+----+-------+-----+--------+------------+-------+--------+------+-------+---------+--------------------+---+--------------+------------+-----------+-------------+--------+--------+----+\n",
      "|  0|1424573822|2015-02-22 02:57:02|       17|244010031|52.025958|   N|5.114178|   E|            x|   -999.0|         0|348|   1|    511|    2| VITESSE|           5|      6|     104|     6|      1|244010031|NLAMS00233CITYX00230|  0|           0.0|         0.0|        0.0|          0.0|      79|  PH3269|   5|\n",
      "|  0|1424573882|2015-02-22 02:58:02|       17|244010031|52.025962|   N|5.114182|   E|            x|   -999.0|         0|184|   1|    511|    2| VITESSE|           5|      6|     104|     6|      1|244010031|NLAMS00233CITYX00230|  0|           0.0|         0.0|        0.0|          0.0|      79|  PH3269|   5|\n",
      "|  0|1424573943|2015-02-22 02:59:03|       17|244010031| 52.02596|   N|5.114175|   E|            x|   -999.0|         0|189|   1|    511|    2| VITESSE|           5|      6|     104|     6|      1|244010031|NLAMS00233CITYX00230|  0|           0.0|         0.0|        0.0|          0.0|      79|  PH3269|   5|\n",
      "|  0|1424574004|2015-02-22 03:00:04|       17|244010031|52.025967|   N| 5.11417|   E|            x|   -999.0|         0|189|   1|    511|    2| VITESSE|           5|      6|     104|     6|      1|244010031|NLAMS00233CITYX00230|  0|           0.0|         0.0|        0.0|          0.0|      79|  PH3269|   5|\n",
      "|  0|1424574065|2015-02-22 03:01:05|       17|244010031|52.025973|   N|5.114187|   E|            x|   -999.0|         0| 21|   1|    511|    2| VITESSE|           5|      6|     104|     6|      1|244010031|NLAMS00233CITYX00230|  0|           0.0|         0.0|        0.0|          0.0|      79|  PH3269|   5|\n",
      "|  0|1424574120|2015-02-22 03:02:00|       17|244010031|52.025972|   N|5.114192|   E|            x|   -999.0|         0| 16|   1|    511|    2| VITESSE|           5|      6|     104|     6|      1|244010031|NLAMS00233CITYX00230|  0|           0.0|         0.0|        0.0|          0.0|      79|  PH3269|   5|\n",
      "|  0|1424574181|2015-02-22 03:03:01|       17|244010031| 52.02597|   N|5.114187|   E|            x|   -999.0|         0|  6|   1|    511|    2| VITESSE|           5|      6|     104|     6|      1|244010031|NLAMS00233CITYX00230|  0|           0.0|         0.0|        0.0|          0.0|      79|  PH3269|   5|\n",
      "|  0|1424574242|2015-02-22 03:04:02|       17|244010031|52.025968|   N|5.114188|   E|            x|   -999.0|         0|  9|   1|    511|    2| VITESSE|           5|      6|     104|     6|      1|244010031|NLAMS00233CITYX00230|  0|           0.0|         0.0|        0.0|          0.0|      79|  PH3269|   5|\n",
      "|  0|1424574304|2015-02-22 03:05:04|       17|244010031|52.025963|   N|5.114182|   E|            x|   -999.0|         0| 12|   1|    511|    2| VITESSE|           5|      6|     104|     6|      1|244010031|NLAMS00233CITYX00230|  0|           0.0|         0.0|        0.0|          0.0|      79|  PH3269|   5|\n",
      "|  0|1424574366|2015-02-22 03:06:06|       17|244010031| 52.02596|   N|5.114175|   E|            x|   -999.0|         0| 16|   1|    511|    2| VITESSE|           5|      6|     104|     6|      1|244010031|NLAMS00233CITYX00230|  0|           0.0|         0.0|        0.0|          0.0|      79|  PH3269|   5|\n",
      "|  0|1424574427|2015-02-22 03:07:07|       17|244010031|52.025963|   N|5.114175|   E|            x|   -999.0|         0| 18|   1|    511|    2| VITESSE|           5|      6|     104|     6|      1|244010031|NLAMS00233CITYX00230|  0|           0.0|         0.0|        0.0|          0.0|      79|  PH3269|   5|\n",
      "|  1|1424573875|2015-02-22 02:57:55|       11|244630431| 51.96777|   N|5.317535|   E|            x|   -999.0|         0|113|   1|    511|    2|    VIDI|           7|      4|      15|    95|      2|244630431|DEBOT03910CITYX00150|  0|          32.0|         0.0|       14.0|          1.0|      80|  PH9152|   5|\n",
      "|  1|1424573951|2015-02-22 02:59:11|       21|244630431|51.967605|   N|5.318195|   E|            x|   -999.0|         0|117|   1|    511|    2|    VIDI|           7|      4|      15|    95|      2|244630431|DEBOT03910CITYX00150|  0|          32.0|         0.0|       14.0|          1.0|      80|  PH9152|   5|\n",
      "|  0|1424574011|2015-02-22 03:00:11|       21|244630431|51.967515|   N| 5.31868|   E|            x|   -999.0|         0|114|   1|    511|    2|    VIDI|           7|      4|      15|    95|      2|244630431|DEBOT03910CITYX00150|  0|          32.0|         0.0|       14.0|          1.0|      80|  PH9152|   5|\n",
      "|  0|1424574073|2015-02-22 03:01:13|       21|244630431| 51.96745|   N|5.318805|   E|            x|   -999.0|         0|125|   1|    511|    2|    VIDI|           7|      4|      15|    95|      2|244630431|DEBOT03910CITYX00150|  0|          32.0|         0.0|       14.0|          1.0|      80|  PH9152|   5|\n",
      "|  0|1424574128|2015-02-22 03:02:08|       21|244630431| 51.96741|   N|5.318785|   E|            x|   -999.0|         0|126|   1|    511|    2|    VIDI|           7|      4|      15|    95|      2|244630431|DEBOT03910CITYX00150|  0|          32.0|         0.0|       14.0|          1.0|      80|  PH9152|   5|\n",
      "|  0|1424574212|2015-02-22 03:03:32|       41|244630431| 51.96742|   N| 5.31877|   E|            x|   -999.0|         0|196|   1|    511|    2|    VIDI|           7|      4|      15|    95|      2|244630431|DEBOT03910CITYX00150|  0|          32.0|         0.0|       14.0|          1.0|      80|  PH9152|   5|\n",
      "|  0|1424574265|2015-02-22 03:04:25|       41|244630431| 51.96743|   N|  5.3188|   E|            x|   -999.0|         0|204|   1|    511|    2|    VIDI|           7|      4|      15|    95|      2|244630431|DEBOT03910CITYX00150|  0|          32.0|         0.0|       14.0|          1.0|      80|  PH9152|   5|\n",
      "|  0|1424574327|2015-02-22 03:05:27|       41|244630431|51.967435|   N|5.318795|   E|            x|   -999.0|         0|169|   1|    511|    2|    VIDI|           7|      4|      15|    95|      2|244630431|DEBOT03910CITYX00150|  0|          32.0|         0.0|       14.0|          1.0|      80|  PH9152|   5|\n",
      "|  0|1424574389|2015-02-22 03:06:29|       42|244630431|51.967425|   N| 5.31883|   E|            x|   -999.0|         0|123|   1|    511|    2|    VIDI|           7|      4|      15|    95|      2|244630431|DEBOT03910CITYX00150|  0|          32.0|         0.0|       14.0|          1.0|      80|  PH9152|   5|\n",
      "+---+----------+-------------------+---------+---------+---------+----+--------+----+-------------+---------+----------+---+----+-------+-----+--------+------------+-------+--------+------+-------+---------+--------------------+---+--------------+------------+-----------+-------------+--------+--------+----+\n",
      "only showing top 20 rows\n",
      "\n"
     ]
    }
   ],
   "source": [
    "# Join static and dynamic data\n",
    "joined_data = sql.sql(\"SELECT * FROM dynamic_data INNER JOIN unique_static_data ON (dynamic_data.mmsi=unique_static_data.mmsi)\")\n",
    "joined_data.registerTempTable(\"joined\")\n",
    "joined_data.show()"
   ]
  },
  {
   "cell_type": "code",
   "execution_count": null,
   "metadata": {
    "collapsed": false
   },
   "outputs": [],
   "source": []
  },
  {
   "cell_type": "code",
   "execution_count": null,
   "metadata": {
    "collapsed": true
   },
   "outputs": [],
   "source": []
  }
 ],
 "metadata": {
  "kernelspec": {
   "display_name": "Python 3",
   "language": "python",
   "name": "python3"
  },
  "language_info": {
   "codemirror_mode": {
    "name": "ipython",
    "version": 3
   },
   "file_extension": ".py",
   "mimetype": "text/x-python",
   "name": "python",
   "nbconvert_exporter": "python",
   "pygments_lexer": "ipython3",
   "version": "3.5.2"
  }
 },
 "nbformat": 4,
 "nbformat_minor": 1
}
